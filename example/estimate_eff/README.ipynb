{
 "cells": [
  {
   "cell_type": "markdown",
   "metadata": {},
   "source": [
    "##Example\n",
    "Check ![example/estimate_eff/estimate_eff1.py](example/estimate_eff/estimate_eff1.py).<br/>\n",
    "This is an example given in thie book ![BAYESIAN METHODS FOR THE PHYSICAL SCIENCES](http://www.brera.mi.astro.it/~andreon/BayesianMethodsForThePhysicalSciences/) section 8.2.\n",
    "\n",
    "First let's import necessary packages"
   ]
  },
  {
   "cell_type": "code",
   "execution_count": null,
   "metadata": {
    "collapsed": false
   },
   "outputs": [],
   "source": [
    "import sys\n",
    "from mcupy.graph import *\n",
    "from mcupy.nodes import *\n",
    "from mcupy.utils import *\n",
    "from mcupy.core import ensemble_type\n",
    "try:\n",
    "    import pydot\n",
    "except(ImportError):\n",
    "    import pydot_ng as pydot"
   ]
  },
  {
   "cell_type": "markdown",
   "metadata": {
    "collapsed": true
   },
   "source": [
    "Create a graph object, which is used to hold nodes."
   ]
  },
  {
   "cell_type": "code",
   "execution_count": null,
   "metadata": {
    "collapsed": true
   },
   "outputs": [],
   "source": [
    "g=Graph()"
   ]
  },
  {
   "cell_type": "markdown",
   "metadata": {},
   "source": [
    "Create some nodes"
   ]
  },
  {
   "cell_type": "code",
   "execution_count": null,
   "metadata": {
    "collapsed": false
   },
   "outputs": [],
   "source": [
    "A=FixedUniformNode(0.001,1-1e-5).withTag(\"A\")\n",
    "B=FixedUniformNode(0.001,1-1e-5).withTag(\"B\")\n",
    "mu=FixedUniformNode(.001,100-1e-5).withTag(\"mu\")\n",
    "sigma=FixedUniformNode(.001,100-1e-5).withTag(\"sigma\")"
   ]
  },
  {
   "cell_type": "markdown",
   "metadata": {},
   "source": [
    "And some more nodes"
   ]
  },
  {
   "cell_type": "code",
   "execution_count": null,
   "metadata": {
    "collapsed": true
   },
   "outputs": [],
   "source": [
    "for l in open('eff.txt'):\n",
    "    e1,nrec1,ninj1=l.split()\n",
    "    e1=float(e1)\n",
    "    nrec1=float(nrec1)\n",
    "    ninj1=float(ninj1)\n",
    "    E=C_(e1).inGroup(\"E\")\n",
    "    ninj=C_(ninj1).inGroup(\"ninj\")\n",
    "    eff=((B-A)*PhiNode((E-mu)/sigma)+A).inGroup(\"eff\")\n",
    "    nrec=BinNode(eff,ninj).withObservedValue(nrec1).inGroup(\"nrec\")\n",
    "    g.addNode(nrec)"
   ]
  },
  {
   "cell_type": "markdown",
   "metadata": {},
   "source": [
    "Then let us check the topology of graph"
   ]
  },
  {
   "cell_type": "code",
   "execution_count": null,
   "metadata": {
    "collapsed": false
   },
   "outputs": [],
   "source": [
    "display_graph(g)"
   ]
  },
  {
   "cell_type": "markdown",
   "metadata": {},
   "source": [
    "It's correct.<br/>\n",
    "Then we'd like to perform several sampling and record the values.<br/>\n",
    "\n",
    "Before sampling, we need to decide which variables we need to monitor."
   ]
  },
  {
   "cell_type": "code",
   "execution_count": null,
   "metadata": {
    "collapsed": true
   },
   "outputs": [],
   "source": [
    "mA=g.getMonitor(A)\n",
    "mB=g.getMonitor(B)\n",
    "mSigma=g.getMonitor(sigma)\n",
    "mMu=g.getMonitor(mu)"
   ]
  },
  {
   "cell_type": "markdown",
   "metadata": {},
   "source": [
    "We need a variable to hold the results"
   ]
  },
  {
   "cell_type": "code",
   "execution_count": null,
   "metadata": {
    "collapsed": true
   },
   "outputs": [],
   "source": [
    "result=[]"
   ]
  },
  {
   "cell_type": "markdown",
   "metadata": {},
   "source": [
    "Then we perform the sampling for 1000 time for burning"
   ]
  },
  {
   "cell_type": "code",
   "execution_count": null,
   "metadata": {
    "collapsed": false
   },
   "outputs": [],
   "source": [
    "for i in log_progress(range(1000)):\n",
    "    g.sample()    "
   ]
  },
  {
   "cell_type": "markdown",
   "metadata": {},
   "source": [
    "Then we perform 30000 sampling and record the results"
   ]
  },
  {
   "cell_type": "code",
   "execution_count": null,
   "metadata": {
    "collapsed": false
   },
   "outputs": [],
   "source": [
    "for i in log_progress(range(30000)):\n",
    "    g.sample()\n",
    "    result.append([mA.get(),mB.get(),mMu.get(),mSigma.get()])"
   ]
  },
  {
   "cell_type": "markdown",
   "metadata": {},
   "source": [
    "Then we plot the results."
   ]
  },
  {
   "cell_type": "code",
   "execution_count": null,
   "metadata": {
    "collapsed": false
   },
   "outputs": [],
   "source": [
    "%matplotlib inline\n",
    "import seaborn\n",
    "import scipy\n",
    "result=scipy.array(result)\n",
    "seaborn.jointplot(result[:,0],result[:,1],kind='hex')"
   ]
  },
  {
   "cell_type": "code",
   "execution_count": null,
   "metadata": {
    "collapsed": false
   },
   "outputs": [],
   "source": [
    "seaborn.jointplot(result[:,0],result[:,2],kind='hex')"
   ]
  },
  {
   "cell_type": "code",
   "execution_count": null,
   "metadata": {
    "collapsed": false
   },
   "outputs": [],
   "source": [
    "seaborn.jointplot(result[:,0],result[:,3],kind='hex')"
   ]
  },
  {
   "cell_type": "code",
   "execution_count": null,
   "metadata": {
    "collapsed": false
   },
   "outputs": [],
   "source": [
    "seaborn.jointplot(result[:,1],result[:,2],kind='hex')"
   ]
  },
  {
   "cell_type": "code",
   "execution_count": null,
   "metadata": {
    "collapsed": false
   },
   "outputs": [],
   "source": [
    "seaborn.jointplot(result[:,1],result[:,3],kind='hex')"
   ]
  },
  {
   "cell_type": "code",
   "execution_count": null,
   "metadata": {
    "collapsed": false
   },
   "outputs": [],
   "source": [
    "seaborn.jointplot(result[:,2],result[:,3],kind='hex')"
   ]
  },
  {
   "cell_type": "markdown",
   "metadata": {
    "collapsed": true
   },
   "source": [
    "Now, mcupy has also implemented the ensemble-based sampler for graph, which is much more faster. To use it, first declare a data structure to store the ensemble as:"
   ]
  },
  {
   "cell_type": "code",
   "execution_count": null,
   "metadata": {
    "collapsed": true
   },
   "outputs": [],
   "source": [
    "em=ensemble_type()"
   ]
  },
  {
   "cell_type": "markdown",
   "metadata": {},
   "source": [
    "then, iteratively call the graph.ensemble_sample(em)"
   ]
  },
  {
   "cell_type": "code",
   "execution_count": null,
   "metadata": {
    "collapsed": true
   },
   "outputs": [],
   "source": [
    "result=[]\n",
    "for i in log_progress(range(100000)):\n",
    "    g.ensemble_sample(em)\n",
    "    result.append([em[0][0],em[0][1],em[0][2],em[0][3]])\n",
    "result=scipy.array(result)"
   ]
  },
  {
   "cell_type": "code",
   "execution_count": null,
   "metadata": {
    "collapsed": false
   },
   "outputs": [],
   "source": [
    "seaborn.jointplot(result[:,1],result[:,0],kind='hex')"
   ]
  },
  {
   "cell_type": "code",
   "execution_count": null,
   "metadata": {
    "collapsed": false
   },
   "outputs": [],
   "source": [
    "seaborn.jointplot(result[:,1],result[:,2],kind='hex')"
   ]
  },
  {
   "cell_type": "code",
   "execution_count": null,
   "metadata": {
    "collapsed": true
   },
   "outputs": [],
   "source": []
  }
 ],
 "metadata": {
  "kernelspec": {
   "display_name": "Python 3",
   "language": "python",
   "name": "python3"
  },
  "language_info": {
   "codemirror_mode": {
    "name": "ipython",
    "version": 3
   },
   "file_extension": ".py",
   "mimetype": "text/x-python",
   "name": "python",
   "nbconvert_exporter": "python",
   "pygments_lexer": "ipython3",
   "version": "3.5.2"
  }
 },
 "nbformat": 4,
 "nbformat_minor": 1
}
