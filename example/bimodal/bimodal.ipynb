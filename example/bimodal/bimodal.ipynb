{
 "cells": [
  {
   "cell_type": "code",
   "execution_count": null,
   "metadata": {
    "collapsed": false
   },
   "outputs": [],
   "source": [
    "from mcupy.graph import *\n",
    "from mcupy.utils import *\n",
    "from mcupy.nodes import *\n",
    "from mcupy.jagsparser import *\n",
    "import scipy\n",
    "import seaborn\n",
    "import pylab"
   ]
  },
  {
   "cell_type": "code",
   "execution_count": null,
   "metadata": {
    "collapsed": true
   },
   "outputs": [],
   "source": [
    "data=jagsdatafile.parseFile('data6.2.1.dat.R')"
   ]
  },
  {
   "cell_type": "code",
   "execution_count": null,
   "metadata": {
    "collapsed": false
   },
   "outputs": [],
   "source": [
    "data=parseJagsDataFile('data6.2.1.dat.R')"
   ]
  },
  {
   "cell_type": "code",
   "execution_count": null,
   "metadata": {
    "collapsed": false
   },
   "outputs": [],
   "source": [
    "obsval=data['obsval']\n",
    "err=data['err']"
   ]
  },
  {
   "cell_type": "code",
   "execution_count": null,
   "metadata": {
    "collapsed": false
   },
   "outputs": [],
   "source": [
    "g=Graph()\n",
    "p=FixedUniformNode(1e-5,1-1e-5).withTag(\"p\")\n",
    "sig1=FixedUniformNode(1e-10,10).withTag(\"sig1\")\n",
    "sig2=FixedUniformNode(1e-10,10).withTag(\"sig2\")\n",
    "cent1=FixedUniformNode(4,10).withTag(\"cent1\")\n",
    "cent2Upper=ConstNode(10+1e-6).withTag(\"cent2Upper\")\n",
    "cent2=UniformNode(cent1,cent2Upper).withTag(\"cent2\")\n",
    "for i in range(0,len(obsval)):\n",
    "    b=BernNode(p).inGroup(\"b\")\n",
    "    cent=CondNode(b,cent1,cent2).inGroup(\"cent\")\n",
    "    sig=CondNode(b,sig1,sig2).inGroup(\"sig\")\n",
    "    val=NormalNode(cent,sig).inGroup(\"val\")\n",
    "    obsvalNode=NormalNode(val,ConstNode(err[i])).withObservedValue(obsval[i]).inGroup(\"obsval\")\n",
    "    g.addNode(obsvalNode)"
   ]
  },
  {
   "cell_type": "code",
   "execution_count": null,
   "metadata": {
    "collapsed": false
   },
   "outputs": [],
   "source": [
    "display_graph(g)"
   ]
  },
  {
   "cell_type": "code",
   "execution_count": null,
   "metadata": {
    "collapsed": true
   },
   "outputs": [],
   "source": [
    "monP=g.getMonitor(p)\n",
    "monCent1=g.getMonitor(cent1)\n",
    "monCent2=g.getMonitor(cent2)\n",
    "monSig1=g.getMonitor(sig1)\n",
    "monSig2=g.getMonitor(sig2)"
   ]
  },
  {
   "cell_type": "code",
   "execution_count": null,
   "metadata": {
    "collapsed": false
   },
   "outputs": [],
   "source": [
    "results=[]\n",
    "for i in log_progress(range(0,10000)):\n",
    "    g.sample()\n",
    "for i in log_progress(range(0,10000)):\n",
    "    g.sample()\n",
    "    results.append([monP.get(),monCent1.get(),monCent2.get(),monSig1.get(),monSig2.get()])"
   ]
  },
  {
   "cell_type": "code",
   "execution_count": null,
   "metadata": {
    "collapsed": true
   },
   "outputs": [],
   "source": [
    "results=scipy.array(results)"
   ]
  },
  {
   "cell_type": "code",
   "execution_count": null,
   "metadata": {
    "collapsed": false
   },
   "outputs": [],
   "source": [
    "%matplotlib inline\n",
    "pylab.hist(results[:,0],bins=100)"
   ]
  },
  {
   "cell_type": "code",
   "execution_count": null,
   "metadata": {
    "collapsed": false
   },
   "outputs": [],
   "source": [
    "pylab.hist(results[:,1],bins=100)"
   ]
  },
  {
   "cell_type": "code",
   "execution_count": null,
   "metadata": {
    "collapsed": false
   },
   "outputs": [],
   "source": [
    "pylab.hist(results[:,2],bins=100)"
   ]
  },
  {
   "cell_type": "code",
   "execution_count": null,
   "metadata": {
    "collapsed": false
   },
   "outputs": [],
   "source": [
    "pylab.hist(results[:,3],bins=100)"
   ]
  },
  {
   "cell_type": "code",
   "execution_count": null,
   "metadata": {
    "collapsed": false,
    "scrolled": true
   },
   "outputs": [],
   "source": [
    "pylab.hist(results[:,4],bins=100)"
   ]
  },
  {
   "cell_type": "code",
   "execution_count": null,
   "metadata": {
    "collapsed": false
   },
   "outputs": [],
   "source": [
    "seaborn.jointplot(results[:,1],results[:,2],kind='hex')"
   ]
  },
  {
   "cell_type": "code",
   "execution_count": null,
   "metadata": {
    "collapsed": true
   },
   "outputs": [],
   "source": []
  },
  {
   "cell_type": "code",
   "execution_count": null,
   "metadata": {
    "collapsed": true
   },
   "outputs": [],
   "source": []
  }
 ],
 "metadata": {
  "kernelspec": {
   "display_name": "Python 3",
   "language": "python",
   "name": "python3"
  },
  "language_info": {
   "codemirror_mode": {
    "name": "ipython",
    "version": 3
   },
   "file_extension": ".py",
   "mimetype": "text/x-python",
   "name": "python",
   "nbconvert_exporter": "python",
   "pygments_lexer": "ipython3",
   "version": "3.5.2"
  }
 },
 "nbformat": 4,
 "nbformat_minor": 1
}
